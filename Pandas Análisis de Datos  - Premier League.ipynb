{
 "cells": [
  {
   "cell_type": "markdown",
   "metadata": {},
   "source": [
    "![linea 1](https://user-images.githubusercontent.com/19308295/115926252-2b8a0c00-a448-11eb-9d9c-b43beaf0ff68.png)"
   ]
  },
  {
   "cell_type": "markdown",
   "metadata": {},
   "source": [
    "<center> <h1>Análisis de Datos con PANDAS</h1> </center> \n"
   ]
  },
  {
   "cell_type": "markdown",
   "metadata": {},
   "source": [
    "![linea 1](https://user-images.githubusercontent.com/19308295/115926252-2b8a0c00-a448-11eb-9d9c-b43beaf0ff68.png)"
   ]
  },
  {
   "cell_type": "markdown",
   "metadata": {},
   "source": [
    "# Descripción:"
   ]
  },
  {
   "cell_type": "markdown",
   "metadata": {},
   "source": [
    "<div class=\"alert alert-info\">\n",
    "\n",
    "En este notebook se explicarán Análisis de Datos con la librería **Pandas**  en el lenguaje de programación Python. \n",
    "    \n",
    "</div>\n",
    "\n"
   ]
  },
  {
   "cell_type": "markdown",
   "metadata": {},
   "source": [
    "# Objetivos:\n",
    "\n",
    " 1. Importando archivos ***csv*** y manipulación inicial en **Pandas.**\n",
    " 2. Analisis con datos reales de Futbol"
   ]
  },
  {
   "cell_type": "markdown",
   "metadata": {},
   "source": [
    "\n",
    "[Análisis de Datos English Premier League (EPL)](#Análisis-de-Datos-English-Premier-League-(EPL)-2020-2021)<br>\n",
    "\n",
    "\n",
    "\n",
    "[BIBLIOGRAFÍA](#BIBLIOGRAFÍA)<br>"
   ]
  },
  {
   "cell_type": "markdown",
   "metadata": {},
   "source": [
    "![linea 1](https://user-images.githubusercontent.com/19308295/115926252-2b8a0c00-a448-11eb-9d9c-b43beaf0ff68.png)"
   ]
  },
  {
   "cell_type": "markdown",
   "metadata": {},
   "source": [
    "<center><img src=\"https://futbolete.com/apuestas/wp-content/uploads/2021/01/premier-league.png\" width=\"600\" height=\"4200\"></center>"
   ]
  },
  {
   "cell_type": "markdown",
   "metadata": {},
   "source": [
    "![linea 2](https://user-images.githubusercontent.com/19308295/115926262-2fb62980-a448-11eb-8189-c2f10e499944.png)"
   ]
  },
  {
   "cell_type": "markdown",
   "metadata": {},
   "source": [
    "<div class=\"alert alert-info\"> La <strong>Premier League</strong>, también conocida en Inglaterra como The Premiership, es la máxima categoría del sistema de ligas de fútbol de Inglaterra. Comenzó a disputarse en la temporada 1992-93</div>"
   ]
  },
  {
   "cell_type": "markdown",
   "metadata": {},
   "source": [
    "<div class=\"alert alert-info\"> El análisis se realiza de la ultima temporada <strong>2020-2021</strong> de la <strong> Premier League</strong>\n",
    "\n",
    "La Colección de datos utilizada de la temporada <strong>2020-2021</strong> de la <strong> Premier League</strong>\n",
    "fueron descargados desde:\n",
    "\n",
    "</div>\n",
    "\n",
    "https://bit.ly/3aRnGVx"
   ]
  },
  {
   "cell_type": "markdown",
   "metadata": {},
   "source": [
    "![linea 2](https://user-images.githubusercontent.com/19308295/115926262-2fb62980-a448-11eb-8189-c2f10e499944.png)"
   ]
  },
  {
   "cell_type": "markdown",
   "metadata": {},
   "source": [
    "## <font color=#33A5FF>****Análisis de Datos English Premier League (EPL) 2020-2021****<tfont>"
   ]
  },
  {
   "cell_type": "code",
   "execution_count": 41,
   "metadata": {},
   "outputs": [],
   "source": [
    "#Librerías\n",
    "import numpy as np\n",
    "import pandas as pd\n",
    "import matplotlib.pyplot as plt\n",
    "import seaborn as sns\n",
    "import warnings\n",
    "warnings.simplefilter(action='ignore', category = Warning)\n",
    "pd.reset_option('all')\n",
    "%matplotlib inline"
   ]
  },
  {
   "cell_type": "markdown",
   "metadata": {},
   "source": [
    "Cargamos los **datos** para luego ***limpiar nuestros datos***."
   ]
  },
  {
   "cell_type": "code",
   "execution_count": 42,
   "metadata": {},
   "outputs": [],
   "source": [
    "#cargamos un archivo CSV separado por comas\n",
    "epl = pd.read_csv('EPL_20_21.csv')\n"
   ]
  },
  {
   "cell_type": "code",
   "execution_count": 8,
   "metadata": {},
   "outputs": [
    {
     "data": {
      "text/html": [
       "<div>\n",
       "<style scoped>\n",
       "    .dataframe tbody tr th:only-of-type {\n",
       "        vertical-align: middle;\n",
       "    }\n",
       "\n",
       "    .dataframe tbody tr th {\n",
       "        vertical-align: top;\n",
       "    }\n",
       "\n",
       "    .dataframe thead th {\n",
       "        text-align: right;\n",
       "    }\n",
       "</style>\n",
       "<table border=\"1\" class=\"dataframe\">\n",
       "  <thead>\n",
       "    <tr style=\"text-align: right;\">\n",
       "      <th></th>\n",
       "      <th>Name</th>\n",
       "      <th>Club</th>\n",
       "      <th>Nationality</th>\n",
       "      <th>Position</th>\n",
       "      <th>Age</th>\n",
       "      <th>Matches</th>\n",
       "      <th>Starts</th>\n",
       "      <th>Mins</th>\n",
       "      <th>Goals</th>\n",
       "      <th>Assists</th>\n",
       "      <th>Passes_Attempted</th>\n",
       "      <th>Perc_Passes_Completed</th>\n",
       "      <th>Penalty_Goals</th>\n",
       "      <th>Penalty_Attempted</th>\n",
       "      <th>xG</th>\n",
       "      <th>xA</th>\n",
       "      <th>Yellow_Cards</th>\n",
       "      <th>Red_Cards</th>\n",
       "    </tr>\n",
       "  </thead>\n",
       "  <tbody>\n",
       "    <tr>\n",
       "      <th>0</th>\n",
       "      <td>Mason Mount</td>\n",
       "      <td>Chelsea</td>\n",
       "      <td>ENG</td>\n",
       "      <td>MF,FW</td>\n",
       "      <td>21</td>\n",
       "      <td>36</td>\n",
       "      <td>32</td>\n",
       "      <td>2890</td>\n",
       "      <td>6</td>\n",
       "      <td>5</td>\n",
       "      <td>1881</td>\n",
       "      <td>82.3</td>\n",
       "      <td>1</td>\n",
       "      <td>1</td>\n",
       "      <td>0.21</td>\n",
       "      <td>0.24</td>\n",
       "      <td>2</td>\n",
       "      <td>0</td>\n",
       "    </tr>\n",
       "    <tr>\n",
       "      <th>1</th>\n",
       "      <td>Edouard Mendy</td>\n",
       "      <td>Chelsea</td>\n",
       "      <td>SEN</td>\n",
       "      <td>GK</td>\n",
       "      <td>28</td>\n",
       "      <td>31</td>\n",
       "      <td>31</td>\n",
       "      <td>2745</td>\n",
       "      <td>0</td>\n",
       "      <td>0</td>\n",
       "      <td>1007</td>\n",
       "      <td>84.6</td>\n",
       "      <td>0</td>\n",
       "      <td>0</td>\n",
       "      <td>0.00</td>\n",
       "      <td>0.00</td>\n",
       "      <td>2</td>\n",
       "      <td>0</td>\n",
       "    </tr>\n",
       "    <tr>\n",
       "      <th>2</th>\n",
       "      <td>Timo Werner</td>\n",
       "      <td>Chelsea</td>\n",
       "      <td>GER</td>\n",
       "      <td>FW</td>\n",
       "      <td>24</td>\n",
       "      <td>35</td>\n",
       "      <td>29</td>\n",
       "      <td>2602</td>\n",
       "      <td>6</td>\n",
       "      <td>8</td>\n",
       "      <td>826</td>\n",
       "      <td>77.2</td>\n",
       "      <td>0</td>\n",
       "      <td>0</td>\n",
       "      <td>0.41</td>\n",
       "      <td>0.21</td>\n",
       "      <td>2</td>\n",
       "      <td>0</td>\n",
       "    </tr>\n",
       "    <tr>\n",
       "      <th>3</th>\n",
       "      <td>Ben Chilwell</td>\n",
       "      <td>Chelsea</td>\n",
       "      <td>ENG</td>\n",
       "      <td>DF</td>\n",
       "      <td>23</td>\n",
       "      <td>27</td>\n",
       "      <td>27</td>\n",
       "      <td>2286</td>\n",
       "      <td>3</td>\n",
       "      <td>5</td>\n",
       "      <td>1806</td>\n",
       "      <td>78.6</td>\n",
       "      <td>0</td>\n",
       "      <td>0</td>\n",
       "      <td>0.10</td>\n",
       "      <td>0.11</td>\n",
       "      <td>3</td>\n",
       "      <td>0</td>\n",
       "    </tr>\n",
       "    <tr>\n",
       "      <th>4</th>\n",
       "      <td>Reece James</td>\n",
       "      <td>Chelsea</td>\n",
       "      <td>ENG</td>\n",
       "      <td>DF</td>\n",
       "      <td>20</td>\n",
       "      <td>32</td>\n",
       "      <td>25</td>\n",
       "      <td>2373</td>\n",
       "      <td>1</td>\n",
       "      <td>2</td>\n",
       "      <td>1987</td>\n",
       "      <td>85.0</td>\n",
       "      <td>0</td>\n",
       "      <td>0</td>\n",
       "      <td>0.06</td>\n",
       "      <td>0.12</td>\n",
       "      <td>3</td>\n",
       "      <td>0</td>\n",
       "    </tr>\n",
       "  </tbody>\n",
       "</table>\n",
       "</div>"
      ],
      "text/plain": [
       "            Name     Club Nationality Position  Age  Matches  Starts  Mins  \\\n",
       "0    Mason Mount  Chelsea         ENG    MF,FW   21       36      32  2890   \n",
       "1  Edouard Mendy  Chelsea         SEN       GK   28       31      31  2745   \n",
       "2    Timo Werner  Chelsea         GER       FW   24       35      29  2602   \n",
       "3   Ben Chilwell  Chelsea         ENG       DF   23       27      27  2286   \n",
       "4    Reece James  Chelsea         ENG       DF   20       32      25  2373   \n",
       "\n",
       "   Goals  Assists  Passes_Attempted  Perc_Passes_Completed  Penalty_Goals  \\\n",
       "0      6        5              1881                   82.3              1   \n",
       "1      0        0              1007                   84.6              0   \n",
       "2      6        8               826                   77.2              0   \n",
       "3      3        5              1806                   78.6              0   \n",
       "4      1        2              1987                   85.0              0   \n",
       "\n",
       "   Penalty_Attempted    xG    xA  Yellow_Cards  Red_Cards  \n",
       "0                  1  0.21  0.24             2          0  \n",
       "1                  0  0.00  0.00             2          0  \n",
       "2                  0  0.41  0.21             2          0  \n",
       "3                  0  0.10  0.11             3          0  \n",
       "4                  0  0.06  0.12             3          0  "
      ]
     },
     "execution_count": 8,
     "metadata": {},
     "output_type": "execute_result"
    }
   ],
   "source": [
    "#leer 5 primeras lineas\n",
    "epl.head()\n"
   ]
  },
  {
   "cell_type": "code",
   "execution_count": 9,
   "metadata": {},
   "outputs": [
    {
     "data": {
      "text/plain": [
       "(532, 18)"
      ]
     },
     "execution_count": 9,
     "metadata": {},
     "output_type": "execute_result"
    }
   ],
   "source": [
    "epl.shape"
   ]
  },
  {
   "cell_type": "code",
   "execution_count": 10,
   "metadata": {},
   "outputs": [
    {
     "data": {
      "text/plain": [
       "532"
      ]
     },
     "execution_count": 10,
     "metadata": {},
     "output_type": "execute_result"
    }
   ],
   "source": [
    "len(epl)"
   ]
  },
  {
   "cell_type": "code",
   "execution_count": 11,
   "metadata": {},
   "outputs": [
    {
     "data": {
      "text/plain": [
       "18"
      ]
     },
     "execution_count": 11,
     "metadata": {},
     "output_type": "execute_result"
    }
   ],
   "source": [
    "epl.shape[1]"
   ]
  },
  {
   "cell_type": "code",
   "execution_count": 12,
   "metadata": {},
   "outputs": [
    {
     "data": {
      "text/html": [
       "<div>\n",
       "<style scoped>\n",
       "    .dataframe tbody tr th:only-of-type {\n",
       "        vertical-align: middle;\n",
       "    }\n",
       "\n",
       "    .dataframe tbody tr th {\n",
       "        vertical-align: top;\n",
       "    }\n",
       "\n",
       "    .dataframe thead th {\n",
       "        text-align: right;\n",
       "    }\n",
       "</style>\n",
       "<table border=\"1\" class=\"dataframe\">\n",
       "  <thead>\n",
       "    <tr style=\"text-align: right;\">\n",
       "      <th></th>\n",
       "      <th>Name</th>\n",
       "      <th>Club</th>\n",
       "      <th>Nationality</th>\n",
       "      <th>Position</th>\n",
       "      <th>Age</th>\n",
       "      <th>Matches</th>\n",
       "      <th>Starts</th>\n",
       "      <th>Mins</th>\n",
       "      <th>Goals</th>\n",
       "      <th>Assists</th>\n",
       "      <th>Passes_Attempted</th>\n",
       "      <th>Perc_Passes_Completed</th>\n",
       "      <th>Penalty_Goals</th>\n",
       "      <th>Penalty_Attempted</th>\n",
       "      <th>xG</th>\n",
       "      <th>xA</th>\n",
       "      <th>Yellow_Cards</th>\n",
       "      <th>Red_Cards</th>\n",
       "    </tr>\n",
       "  </thead>\n",
       "  <tbody>\n",
       "    <tr>\n",
       "      <th>23</th>\n",
       "      <td>Ruben Loftus-Cheek</td>\n",
       "      <td>Chelsea</td>\n",
       "      <td>ENG</td>\n",
       "      <td>FW</td>\n",
       "      <td>24</td>\n",
       "      <td>1</td>\n",
       "      <td>1</td>\n",
       "      <td>60</td>\n",
       "      <td>0</td>\n",
       "      <td>0</td>\n",
       "      <td>16</td>\n",
       "      <td>68.8</td>\n",
       "      <td>0</td>\n",
       "      <td>0</td>\n",
       "      <td>0.00</td>\n",
       "      <td>0.00</td>\n",
       "      <td>0</td>\n",
       "      <td>0</td>\n",
       "    </tr>\n",
       "    <tr>\n",
       "      <th>320</th>\n",
       "      <td>Adama Traoré</td>\n",
       "      <td>Wolverhampton Wanderers</td>\n",
       "      <td>ESP</td>\n",
       "      <td>FW</td>\n",
       "      <td>24</td>\n",
       "      <td>37</td>\n",
       "      <td>28</td>\n",
       "      <td>2649</td>\n",
       "      <td>2</td>\n",
       "      <td>2</td>\n",
       "      <td>879</td>\n",
       "      <td>65.9</td>\n",
       "      <td>0</td>\n",
       "      <td>0</td>\n",
       "      <td>0.08</td>\n",
       "      <td>0.18</td>\n",
       "      <td>4</td>\n",
       "      <td>0</td>\n",
       "    </tr>\n",
       "    <tr>\n",
       "      <th>182</th>\n",
       "      <td>Dane Scarlett</td>\n",
       "      <td>Tottenham Hotspur</td>\n",
       "      <td>ENG</td>\n",
       "      <td>FW</td>\n",
       "      <td>16</td>\n",
       "      <td>1</td>\n",
       "      <td>0</td>\n",
       "      <td>1</td>\n",
       "      <td>0</td>\n",
       "      <td>0</td>\n",
       "      <td>0</td>\n",
       "      <td>-1.0</td>\n",
       "      <td>0</td>\n",
       "      <td>0</td>\n",
       "      <td>0.00</td>\n",
       "      <td>0.00</td>\n",
       "      <td>0</td>\n",
       "      <td>0</td>\n",
       "    </tr>\n",
       "    <tr>\n",
       "      <th>173</th>\n",
       "      <td>Steven Bergwijn</td>\n",
       "      <td>Tottenham Hotspur</td>\n",
       "      <td>NED</td>\n",
       "      <td>FW,MF</td>\n",
       "      <td>22</td>\n",
       "      <td>21</td>\n",
       "      <td>13</td>\n",
       "      <td>1208</td>\n",
       "      <td>1</td>\n",
       "      <td>3</td>\n",
       "      <td>428</td>\n",
       "      <td>81.1</td>\n",
       "      <td>0</td>\n",
       "      <td>0</td>\n",
       "      <td>0.18</td>\n",
       "      <td>0.09</td>\n",
       "      <td>3</td>\n",
       "      <td>0</td>\n",
       "    </tr>\n",
       "  </tbody>\n",
       "</table>\n",
       "</div>"
      ],
      "text/plain": [
       "                   Name                     Club Nationality Position  Age  \\\n",
       "23   Ruben Loftus-Cheek                  Chelsea         ENG       FW   24   \n",
       "320        Adama Traoré  Wolverhampton Wanderers         ESP       FW   24   \n",
       "182       Dane Scarlett        Tottenham Hotspur         ENG       FW   16   \n",
       "173     Steven Bergwijn        Tottenham Hotspur         NED    FW,MF   22   \n",
       "\n",
       "     Matches  Starts  Mins  Goals  Assists  Passes_Attempted  \\\n",
       "23         1       1    60      0        0                16   \n",
       "320       37      28  2649      2        2               879   \n",
       "182        1       0     1      0        0                 0   \n",
       "173       21      13  1208      1        3               428   \n",
       "\n",
       "     Perc_Passes_Completed  Penalty_Goals  Penalty_Attempted    xG    xA  \\\n",
       "23                    68.8              0                  0  0.00  0.00   \n",
       "320                   65.9              0                  0  0.08  0.18   \n",
       "182                   -1.0              0                  0  0.00  0.00   \n",
       "173                   81.1              0                  0  0.18  0.09   \n",
       "\n",
       "     Yellow_Cards  Red_Cards  \n",
       "23              0          0  \n",
       "320             4          0  \n",
       "182             0          0  \n",
       "173             3          0  "
      ]
     },
     "execution_count": 12,
     "metadata": {},
     "output_type": "execute_result"
    }
   ],
   "source": [
    "#leer 4 primeras lineas aleatorias\n",
    "epl.sample(4)\n"
   ]
  },
  {
   "cell_type": "code",
   "execution_count": 13,
   "metadata": {},
   "outputs": [
    {
     "name": "stdout",
     "output_type": "stream",
     "text": [
      "<class 'pandas.core.frame.DataFrame'>\n",
      "RangeIndex: 532 entries, 0 to 531\n",
      "Data columns (total 18 columns):\n",
      " #   Column                 Non-Null Count  Dtype  \n",
      "---  ------                 --------------  -----  \n",
      " 0   Name                   532 non-null    object \n",
      " 1   Club                   532 non-null    object \n",
      " 2   Nationality            532 non-null    object \n",
      " 3   Position               532 non-null    object \n",
      " 4   Age                    532 non-null    int64  \n",
      " 5   Matches                532 non-null    int64  \n",
      " 6   Starts                 532 non-null    int64  \n",
      " 7   Mins                   532 non-null    int64  \n",
      " 8   Goals                  532 non-null    int64  \n",
      " 9   Assists                532 non-null    int64  \n",
      " 10  Passes_Attempted       532 non-null    int64  \n",
      " 11  Perc_Passes_Completed  532 non-null    float64\n",
      " 12  Penalty_Goals          532 non-null    int64  \n",
      " 13  Penalty_Attempted      532 non-null    int64  \n",
      " 14  xG                     532 non-null    float64\n",
      " 15  xA                     532 non-null    float64\n",
      " 16  Yellow_Cards           532 non-null    int64  \n",
      " 17  Red_Cards              532 non-null    int64  \n",
      "dtypes: float64(3), int64(11), object(4)\n",
      "memory usage: 74.9+ KB\n"
     ]
    }
   ],
   "source": [
    "#Información del DataFrame\n",
    "epl.info()\n"
   ]
  },
  {
   "cell_type": "code",
   "execution_count": 14,
   "metadata": {},
   "outputs": [
    {
     "data": {
      "text/html": [
       "<div>\n",
       "<style scoped>\n",
       "    .dataframe tbody tr th:only-of-type {\n",
       "        vertical-align: middle;\n",
       "    }\n",
       "\n",
       "    .dataframe tbody tr th {\n",
       "        vertical-align: top;\n",
       "    }\n",
       "\n",
       "    .dataframe thead th {\n",
       "        text-align: right;\n",
       "    }\n",
       "</style>\n",
       "<table border=\"1\" class=\"dataframe\">\n",
       "  <thead>\n",
       "    <tr style=\"text-align: right;\">\n",
       "      <th></th>\n",
       "      <th>count</th>\n",
       "      <th>mean</th>\n",
       "      <th>std</th>\n",
       "      <th>min</th>\n",
       "      <th>25%</th>\n",
       "      <th>50%</th>\n",
       "      <th>75%</th>\n",
       "      <th>max</th>\n",
       "    </tr>\n",
       "  </thead>\n",
       "  <tbody>\n",
       "    <tr>\n",
       "      <th>Age</th>\n",
       "      <td>532.0</td>\n",
       "      <td>25.500000</td>\n",
       "      <td>4.319404</td>\n",
       "      <td>16.0</td>\n",
       "      <td>22.00</td>\n",
       "      <td>26.00</td>\n",
       "      <td>29.000</td>\n",
       "      <td>38.00</td>\n",
       "    </tr>\n",
       "    <tr>\n",
       "      <th>Matches</th>\n",
       "      <td>532.0</td>\n",
       "      <td>19.535714</td>\n",
       "      <td>11.840459</td>\n",
       "      <td>1.0</td>\n",
       "      <td>9.00</td>\n",
       "      <td>21.00</td>\n",
       "      <td>30.000</td>\n",
       "      <td>38.00</td>\n",
       "    </tr>\n",
       "    <tr>\n",
       "      <th>Starts</th>\n",
       "      <td>532.0</td>\n",
       "      <td>15.714286</td>\n",
       "      <td>11.921161</td>\n",
       "      <td>0.0</td>\n",
       "      <td>4.00</td>\n",
       "      <td>15.00</td>\n",
       "      <td>27.000</td>\n",
       "      <td>38.00</td>\n",
       "    </tr>\n",
       "    <tr>\n",
       "      <th>Mins</th>\n",
       "      <td>532.0</td>\n",
       "      <td>1411.443609</td>\n",
       "      <td>1043.171856</td>\n",
       "      <td>1.0</td>\n",
       "      <td>426.00</td>\n",
       "      <td>1345.00</td>\n",
       "      <td>2303.500</td>\n",
       "      <td>3420.00</td>\n",
       "    </tr>\n",
       "    <tr>\n",
       "      <th>Goals</th>\n",
       "      <td>532.0</td>\n",
       "      <td>1.853383</td>\n",
       "      <td>3.338009</td>\n",
       "      <td>0.0</td>\n",
       "      <td>0.00</td>\n",
       "      <td>1.00</td>\n",
       "      <td>2.000</td>\n",
       "      <td>23.00</td>\n",
       "    </tr>\n",
       "    <tr>\n",
       "      <th>Assists</th>\n",
       "      <td>532.0</td>\n",
       "      <td>1.287594</td>\n",
       "      <td>2.095191</td>\n",
       "      <td>0.0</td>\n",
       "      <td>0.00</td>\n",
       "      <td>0.00</td>\n",
       "      <td>2.000</td>\n",
       "      <td>14.00</td>\n",
       "    </tr>\n",
       "    <tr>\n",
       "      <th>Passes_Attempted</th>\n",
       "      <td>532.0</td>\n",
       "      <td>717.750000</td>\n",
       "      <td>631.372522</td>\n",
       "      <td>0.0</td>\n",
       "      <td>171.50</td>\n",
       "      <td>573.50</td>\n",
       "      <td>1129.500</td>\n",
       "      <td>3214.00</td>\n",
       "    </tr>\n",
       "    <tr>\n",
       "      <th>Perc_Passes_Completed</th>\n",
       "      <td>532.0</td>\n",
       "      <td>77.823872</td>\n",
       "      <td>13.011631</td>\n",
       "      <td>-1.0</td>\n",
       "      <td>73.50</td>\n",
       "      <td>79.20</td>\n",
       "      <td>84.625</td>\n",
       "      <td>100.00</td>\n",
       "    </tr>\n",
       "    <tr>\n",
       "      <th>Penalty_Goals</th>\n",
       "      <td>532.0</td>\n",
       "      <td>0.191729</td>\n",
       "      <td>0.850881</td>\n",
       "      <td>0.0</td>\n",
       "      <td>0.00</td>\n",
       "      <td>0.00</td>\n",
       "      <td>0.000</td>\n",
       "      <td>9.00</td>\n",
       "    </tr>\n",
       "    <tr>\n",
       "      <th>Penalty_Attempted</th>\n",
       "      <td>532.0</td>\n",
       "      <td>0.234962</td>\n",
       "      <td>0.975818</td>\n",
       "      <td>0.0</td>\n",
       "      <td>0.00</td>\n",
       "      <td>0.00</td>\n",
       "      <td>0.000</td>\n",
       "      <td>10.00</td>\n",
       "    </tr>\n",
       "    <tr>\n",
       "      <th>xG</th>\n",
       "      <td>532.0</td>\n",
       "      <td>0.113289</td>\n",
       "      <td>0.148174</td>\n",
       "      <td>0.0</td>\n",
       "      <td>0.01</td>\n",
       "      <td>0.06</td>\n",
       "      <td>0.150</td>\n",
       "      <td>1.16</td>\n",
       "    </tr>\n",
       "    <tr>\n",
       "      <th>xA</th>\n",
       "      <td>532.0</td>\n",
       "      <td>0.072650</td>\n",
       "      <td>0.090072</td>\n",
       "      <td>0.0</td>\n",
       "      <td>0.00</td>\n",
       "      <td>0.05</td>\n",
       "      <td>0.110</td>\n",
       "      <td>0.90</td>\n",
       "    </tr>\n",
       "    <tr>\n",
       "      <th>Yellow_Cards</th>\n",
       "      <td>532.0</td>\n",
       "      <td>2.114662</td>\n",
       "      <td>2.269094</td>\n",
       "      <td>0.0</td>\n",
       "      <td>0.00</td>\n",
       "      <td>2.00</td>\n",
       "      <td>3.000</td>\n",
       "      <td>12.00</td>\n",
       "    </tr>\n",
       "    <tr>\n",
       "      <th>Red_Cards</th>\n",
       "      <td>532.0</td>\n",
       "      <td>0.090226</td>\n",
       "      <td>0.293268</td>\n",
       "      <td>0.0</td>\n",
       "      <td>0.00</td>\n",
       "      <td>0.00</td>\n",
       "      <td>0.000</td>\n",
       "      <td>2.00</td>\n",
       "    </tr>\n",
       "  </tbody>\n",
       "</table>\n",
       "</div>"
      ],
      "text/plain": [
       "                       count         mean          std   min     25%      50%  \\\n",
       "Age                    532.0    25.500000     4.319404  16.0   22.00    26.00   \n",
       "Matches                532.0    19.535714    11.840459   1.0    9.00    21.00   \n",
       "Starts                 532.0    15.714286    11.921161   0.0    4.00    15.00   \n",
       "Mins                   532.0  1411.443609  1043.171856   1.0  426.00  1345.00   \n",
       "Goals                  532.0     1.853383     3.338009   0.0    0.00     1.00   \n",
       "Assists                532.0     1.287594     2.095191   0.0    0.00     0.00   \n",
       "Passes_Attempted       532.0   717.750000   631.372522   0.0  171.50   573.50   \n",
       "Perc_Passes_Completed  532.0    77.823872    13.011631  -1.0   73.50    79.20   \n",
       "Penalty_Goals          532.0     0.191729     0.850881   0.0    0.00     0.00   \n",
       "Penalty_Attempted      532.0     0.234962     0.975818   0.0    0.00     0.00   \n",
       "xG                     532.0     0.113289     0.148174   0.0    0.01     0.06   \n",
       "xA                     532.0     0.072650     0.090072   0.0    0.00     0.05   \n",
       "Yellow_Cards           532.0     2.114662     2.269094   0.0    0.00     2.00   \n",
       "Red_Cards              532.0     0.090226     0.293268   0.0    0.00     0.00   \n",
       "\n",
       "                            75%      max  \n",
       "Age                      29.000    38.00  \n",
       "Matches                  30.000    38.00  \n",
       "Starts                   27.000    38.00  \n",
       "Mins                   2303.500  3420.00  \n",
       "Goals                     2.000    23.00  \n",
       "Assists                   2.000    14.00  \n",
       "Passes_Attempted       1129.500  3214.00  \n",
       "Perc_Passes_Completed    84.625   100.00  \n",
       "Penalty_Goals             0.000     9.00  \n",
       "Penalty_Attempted         0.000    10.00  \n",
       "xG                        0.150     1.16  \n",
       "xA                        0.110     0.90  \n",
       "Yellow_Cards              3.000    12.00  \n",
       "Red_Cards                 0.000     2.00  "
      ]
     },
     "execution_count": 14,
     "metadata": {},
     "output_type": "execute_result"
    }
   ],
   "source": [
    "#Resumen de Datos estadisticos ---- Solo columnas numéricas\n",
    "epl.describe().T\n"
   ]
  },
  {
   "cell_type": "code",
   "execution_count": 15,
   "metadata": {},
   "outputs": [
    {
     "data": {
      "text/plain": [
       "Name                     0\n",
       "Club                     0\n",
       "Nationality              0\n",
       "Position                 0\n",
       "Age                      0\n",
       "Matches                  0\n",
       "Starts                   0\n",
       "Mins                     0\n",
       "Goals                    0\n",
       "Assists                  0\n",
       "Passes_Attempted         0\n",
       "Perc_Passes_Completed    0\n",
       "Penalty_Goals            0\n",
       "Penalty_Attempted        0\n",
       "xG                       0\n",
       "xA                       0\n",
       "Yellow_Cards             0\n",
       "Red_Cards                0\n",
       "dtype: int64"
      ]
     },
     "execution_count": 15,
     "metadata": {},
     "output_type": "execute_result"
    }
   ],
   "source": [
    "#Número total de valores nulos\n",
    "epl.isna().sum()\n"
   ]
  },
  {
   "cell_type": "markdown",
   "metadata": {},
   "source": [
    "Creamos 2 columnas mas **Minutos por partido** y ***Goles por partido***."
   ]
  },
  {
   "cell_type": "code",
   "execution_count": 43,
   "metadata": {},
   "outputs": [],
   "source": [
    "# creacion de 2 columnas\n",
    "epl['MinsPerMatch'] = (epl['Mins'] / epl['Matches']).astype(int)\n",
    "epl['GoalsPerMatch'] = (epl['Goals'] / epl['Matches']).astype(float)\n"
   ]
  },
  {
   "cell_type": "code",
   "execution_count": 32,
   "metadata": {},
   "outputs": [
    {
     "data": {
      "text/html": [
       "<div>\n",
       "<style scoped>\n",
       "    .dataframe tbody tr th:only-of-type {\n",
       "        vertical-align: middle;\n",
       "    }\n",
       "\n",
       "    .dataframe tbody tr th {\n",
       "        vertical-align: top;\n",
       "    }\n",
       "\n",
       "    .dataframe thead th {\n",
       "        text-align: right;\n",
       "    }\n",
       "</style>\n",
       "<table border=\"1\" class=\"dataframe\">\n",
       "  <thead>\n",
       "    <tr style=\"text-align: right;\">\n",
       "      <th></th>\n",
       "      <th>Name</th>\n",
       "      <th>Club</th>\n",
       "      <th>Nationality</th>\n",
       "      <th>Position</th>\n",
       "      <th>Age</th>\n",
       "      <th>Matches</th>\n",
       "      <th>Starts</th>\n",
       "      <th>Mins</th>\n",
       "      <th>Goals</th>\n",
       "      <th>Assists</th>\n",
       "      <th>Passes_Attempted</th>\n",
       "      <th>Perc_Passes_Completed</th>\n",
       "      <th>Penalty_Goals</th>\n",
       "      <th>Penalty_Attempted</th>\n",
       "      <th>xG</th>\n",
       "      <th>xA</th>\n",
       "      <th>Yellow_Cards</th>\n",
       "      <th>Red_Cards</th>\n",
       "      <th>MinsPerMatch</th>\n",
       "      <th>GoalsPerMatch</th>\n",
       "    </tr>\n",
       "  </thead>\n",
       "  <tbody>\n",
       "    <tr>\n",
       "      <th>0</th>\n",
       "      <td>Mason Mount</td>\n",
       "      <td>Chelsea</td>\n",
       "      <td>ENG</td>\n",
       "      <td>MF,FW</td>\n",
       "      <td>21</td>\n",
       "      <td>36</td>\n",
       "      <td>32</td>\n",
       "      <td>2890</td>\n",
       "      <td>6</td>\n",
       "      <td>5</td>\n",
       "      <td>1881</td>\n",
       "      <td>82.3</td>\n",
       "      <td>1</td>\n",
       "      <td>1</td>\n",
       "      <td>0.21</td>\n",
       "      <td>0.24</td>\n",
       "      <td>2</td>\n",
       "      <td>0</td>\n",
       "      <td>80</td>\n",
       "      <td>0.166667</td>\n",
       "    </tr>\n",
       "    <tr>\n",
       "      <th>1</th>\n",
       "      <td>Edouard Mendy</td>\n",
       "      <td>Chelsea</td>\n",
       "      <td>SEN</td>\n",
       "      <td>GK</td>\n",
       "      <td>28</td>\n",
       "      <td>31</td>\n",
       "      <td>31</td>\n",
       "      <td>2745</td>\n",
       "      <td>0</td>\n",
       "      <td>0</td>\n",
       "      <td>1007</td>\n",
       "      <td>84.6</td>\n",
       "      <td>0</td>\n",
       "      <td>0</td>\n",
       "      <td>0.00</td>\n",
       "      <td>0.00</td>\n",
       "      <td>2</td>\n",
       "      <td>0</td>\n",
       "      <td>88</td>\n",
       "      <td>0.000000</td>\n",
       "    </tr>\n",
       "    <tr>\n",
       "      <th>2</th>\n",
       "      <td>Timo Werner</td>\n",
       "      <td>Chelsea</td>\n",
       "      <td>GER</td>\n",
       "      <td>FW</td>\n",
       "      <td>24</td>\n",
       "      <td>35</td>\n",
       "      <td>29</td>\n",
       "      <td>2602</td>\n",
       "      <td>6</td>\n",
       "      <td>8</td>\n",
       "      <td>826</td>\n",
       "      <td>77.2</td>\n",
       "      <td>0</td>\n",
       "      <td>0</td>\n",
       "      <td>0.41</td>\n",
       "      <td>0.21</td>\n",
       "      <td>2</td>\n",
       "      <td>0</td>\n",
       "      <td>74</td>\n",
       "      <td>0.171429</td>\n",
       "    </tr>\n",
       "    <tr>\n",
       "      <th>3</th>\n",
       "      <td>Ben Chilwell</td>\n",
       "      <td>Chelsea</td>\n",
       "      <td>ENG</td>\n",
       "      <td>DF</td>\n",
       "      <td>23</td>\n",
       "      <td>27</td>\n",
       "      <td>27</td>\n",
       "      <td>2286</td>\n",
       "      <td>3</td>\n",
       "      <td>5</td>\n",
       "      <td>1806</td>\n",
       "      <td>78.6</td>\n",
       "      <td>0</td>\n",
       "      <td>0</td>\n",
       "      <td>0.10</td>\n",
       "      <td>0.11</td>\n",
       "      <td>3</td>\n",
       "      <td>0</td>\n",
       "      <td>84</td>\n",
       "      <td>0.111111</td>\n",
       "    </tr>\n",
       "    <tr>\n",
       "      <th>4</th>\n",
       "      <td>Reece James</td>\n",
       "      <td>Chelsea</td>\n",
       "      <td>ENG</td>\n",
       "      <td>DF</td>\n",
       "      <td>20</td>\n",
       "      <td>32</td>\n",
       "      <td>25</td>\n",
       "      <td>2373</td>\n",
       "      <td>1</td>\n",
       "      <td>2</td>\n",
       "      <td>1987</td>\n",
       "      <td>85.0</td>\n",
       "      <td>0</td>\n",
       "      <td>0</td>\n",
       "      <td>0.06</td>\n",
       "      <td>0.12</td>\n",
       "      <td>3</td>\n",
       "      <td>0</td>\n",
       "      <td>74</td>\n",
       "      <td>0.031250</td>\n",
       "    </tr>\n",
       "  </tbody>\n",
       "</table>\n",
       "</div>"
      ],
      "text/plain": [
       "            Name     Club Nationality Position  Age  Matches  Starts  Mins  \\\n",
       "0    Mason Mount  Chelsea         ENG    MF,FW   21       36      32  2890   \n",
       "1  Edouard Mendy  Chelsea         SEN       GK   28       31      31  2745   \n",
       "2    Timo Werner  Chelsea         GER       FW   24       35      29  2602   \n",
       "3   Ben Chilwell  Chelsea         ENG       DF   23       27      27  2286   \n",
       "4    Reece James  Chelsea         ENG       DF   20       32      25  2373   \n",
       "\n",
       "   Goals  Assists  Passes_Attempted  Perc_Passes_Completed  Penalty_Goals  \\\n",
       "0      6        5              1881                   82.3              1   \n",
       "1      0        0              1007                   84.6              0   \n",
       "2      6        8               826                   77.2              0   \n",
       "3      3        5              1806                   78.6              0   \n",
       "4      1        2              1987                   85.0              0   \n",
       "\n",
       "   Penalty_Attempted    xG    xA  Yellow_Cards  Red_Cards  MinsPerMatch  \\\n",
       "0                  1  0.21  0.24             2          0            80   \n",
       "1                  0  0.00  0.00             2          0            88   \n",
       "2                  0  0.41  0.21             2          0            74   \n",
       "3                  0  0.10  0.11             3          0            84   \n",
       "4                  0  0.06  0.12             3          0            74   \n",
       "\n",
       "   GoalsPerMatch  \n",
       "0       0.166667  \n",
       "1       0.000000  \n",
       "2       0.171429  \n",
       "3       0.111111  \n",
       "4       0.031250  "
      ]
     },
     "execution_count": 32,
     "metadata": {},
     "output_type": "execute_result"
    }
   ],
   "source": [
    "#visualizamos las nuevas columnas\n",
    "epl.head()\n"
   ]
  },
  {
   "cell_type": "code",
   "execution_count": 33,
   "metadata": {},
   "outputs": [
    {
     "data": {
      "text/plain": [
       "(532, 20)"
      ]
     },
     "execution_count": 33,
     "metadata": {},
     "output_type": "execute_result"
    }
   ],
   "source": [
    "epl.shape"
   ]
  },
  {
   "cell_type": "code",
   "execution_count": 34,
   "metadata": {},
   "outputs": [
    {
     "data": {
      "text/plain": [
       "Index(['Name', 'Club', 'Nationality', 'Position', 'Age', 'Matches', 'Starts',\n",
       "       'Mins', 'Goals', 'Assists', 'Passes_Attempted', 'Perc_Passes_Completed',\n",
       "       'Penalty_Goals', 'Penalty_Attempted', 'xG', 'xA', 'Yellow_Cards',\n",
       "       'Red_Cards', 'MinsPerMatch', 'GoalsPerMatch'],\n",
       "      dtype='object')"
      ]
     },
     "execution_count": 34,
     "metadata": {},
     "output_type": "execute_result"
    }
   ],
   "source": [
    "epl.columns"
   ]
  },
  {
   "cell_type": "code",
   "execution_count": 44,
   "metadata": {},
   "outputs": [
    {
     "data": {
      "text/plain": [
       "986"
      ]
     },
     "execution_count": 44,
     "metadata": {},
     "output_type": "execute_result"
    }
   ],
   "source": [
    "#Total de goles ---- temporada EPL 2020-2021 ultima temporada\n",
    "Total_Goals = epl['Goals'].sum()\n",
    "Total_Goals"
   ]
  },
  {
   "cell_type": "code",
   "execution_count": 46,
   "metadata": {},
   "outputs": [
    {
     "data": {
      "text/plain": [
       "102"
      ]
     },
     "execution_count": 46,
     "metadata": {},
     "output_type": "execute_result"
    }
   ],
   "source": [
    "#Goles x Penales ---- temporada EPL 2020-2021 ultima temporada\n",
    "Total_Penaltygoles = epl[\"Penalty_Goals\"].sum()\n",
    "Total_Penaltygoles\n"
   ]
  },
  {
   "cell_type": "code",
   "execution_count": 47,
   "metadata": {},
   "outputs": [
    {
     "data": {
      "text/plain": [
       "125"
      ]
     },
     "execution_count": 47,
     "metadata": {},
     "output_type": "execute_result"
    }
   ],
   "source": [
    "# Total Penales ---- temporada EPL 2020-2021 ultima temporada\n",
    "Total_PenaltyAttempts = epl[\"Penalty_Attempted\"].sum()\n",
    "Total_PenaltyAttempts\n"
   ]
  },
  {
   "cell_type": "markdown",
   "metadata": {},
   "source": [
    "### Gráfico Pie chart **Penales Marcados** y **Penales Atajados**."
   ]
  },
  {
   "cell_type": "code",
   "execution_count": 51,
   "metadata": {},
   "outputs": [
    {
     "data": {
      "image/png": "[encoded data removed]",
      "text/plain": [
       "<Figure size 936x432 with 1 Axes>"
      ]
     },
     "metadata": {},
     "output_type": "display_data"
    }
   ],
   "source": [
    "# Gráficos de penales\n",
    "\n",
    "plt.figure(figsize=(13,6))\n",
    "pl_not_scored = epl['Penalty_Attempted'].sum()-Total_Penaltygoles\n",
    "\n",
    "data = [pl_not_scored, Total_Penaltygoles]\n",
    "nom = ['Penales Atajados', 'Penales Marcados']\n",
    "colors = sns.color_palette('Set2')\n",
    "plt.pie(data, labels = nom , colors = colors, autopct = '%.0f%%')\n",
    "plt.show()"
   ]
  },
  {
   "cell_type": "code",
   "execution_count": 53,
   "metadata": {},
   "outputs": [
    {
     "data": {
      "text/plain": [
       "Index(['Name', 'Club', 'Nationality', 'Position', 'Age', 'Matches', 'Starts',\n",
       "       'Mins', 'Goals', 'Assists', 'Passes_Attempted', 'Perc_Passes_Completed',\n",
       "       'Penalty_Goals', 'Penalty_Attempted', 'xG', 'xA', 'Yellow_Cards',\n",
       "       'Red_Cards', 'MinsPerMatch', 'GoalsPerMatch'],\n",
       "      dtype='object')"
      ]
     },
     "execution_count": 53,
     "metadata": {},
     "output_type": "execute_result"
    }
   ],
   "source": [
    "epl.columns"
   ]
  },
  {
   "cell_type": "code",
   "execution_count": 54,
   "metadata": {},
   "outputs": [
    {
     "data": {
      "text/plain": [
       "array(['MF,FW', 'GK', 'FW', 'DF', 'MF', 'FW,MF', 'FW,DF', 'DF,MF',\n",
       "       'MF,DF', 'DF,FW'], dtype=object)"
      ]
     },
     "execution_count": 54,
     "metadata": {},
     "output_type": "execute_result"
    }
   ],
   "source": [
    "# Posiciones únicas de cada jugador \n",
    "# Portero (GK), defensor (DF), centrocampista (MF) delantero (FW)\n",
    "\n",
    "epl['Position'].unique()\n",
    "\n"
   ]
  },
  {
   "cell_type": "code",
   "execution_count": 55,
   "metadata": {},
   "outputs": [
    {
     "data": {
      "text/html": [
       "<div>\n",
       "<style scoped>\n",
       "    .dataframe tbody tr th:only-of-type {\n",
       "        vertical-align: middle;\n",
       "    }\n",
       "\n",
       "    .dataframe tbody tr th {\n",
       "        vertical-align: top;\n",
       "    }\n",
       "\n",
       "    .dataframe thead th {\n",
       "        text-align: right;\n",
       "    }\n",
       "</style>\n",
       "<table border=\"1\" class=\"dataframe\">\n",
       "  <thead>\n",
       "    <tr style=\"text-align: right;\">\n",
       "      <th></th>\n",
       "      <th>Name</th>\n",
       "      <th>Club</th>\n",
       "      <th>Nationality</th>\n",
       "      <th>Position</th>\n",
       "      <th>Age</th>\n",
       "      <th>Matches</th>\n",
       "      <th>Starts</th>\n",
       "      <th>Mins</th>\n",
       "      <th>Goals</th>\n",
       "      <th>Assists</th>\n",
       "      <th>Passes_Attempted</th>\n",
       "      <th>Perc_Passes_Completed</th>\n",
       "      <th>Penalty_Goals</th>\n",
       "      <th>Penalty_Attempted</th>\n",
       "      <th>xG</th>\n",
       "      <th>xA</th>\n",
       "      <th>Yellow_Cards</th>\n",
       "      <th>Red_Cards</th>\n",
       "      <th>MinsPerMatch</th>\n",
       "      <th>GoalsPerMatch</th>\n",
       "    </tr>\n",
       "  </thead>\n",
       "  <tbody>\n",
       "    <tr>\n",
       "      <th>2</th>\n",
       "      <td>Timo Werner</td>\n",
       "      <td>Chelsea</td>\n",
       "      <td>GER</td>\n",
       "      <td>FW</td>\n",
       "      <td>24</td>\n",
       "      <td>35</td>\n",
       "      <td>29</td>\n",
       "      <td>2602</td>\n",
       "      <td>6</td>\n",
       "      <td>8</td>\n",
       "      <td>826</td>\n",
       "      <td>77.2</td>\n",
       "      <td>0</td>\n",
       "      <td>0</td>\n",
       "      <td>0.41</td>\n",
       "      <td>0.21</td>\n",
       "      <td>2</td>\n",
       "      <td>0</td>\n",
       "      <td>74</td>\n",
       "      <td>0.171429</td>\n",
       "    </tr>\n",
       "    <tr>\n",
       "      <th>16</th>\n",
       "      <td>Tammy Abraham</td>\n",
       "      <td>Chelsea</td>\n",
       "      <td>ENG</td>\n",
       "      <td>FW</td>\n",
       "      <td>22</td>\n",
       "      <td>22</td>\n",
       "      <td>12</td>\n",
       "      <td>1040</td>\n",
       "      <td>6</td>\n",
       "      <td>1</td>\n",
       "      <td>218</td>\n",
       "      <td>68.3</td>\n",
       "      <td>0</td>\n",
       "      <td>0</td>\n",
       "      <td>0.56</td>\n",
       "      <td>0.07</td>\n",
       "      <td>0</td>\n",
       "      <td>0</td>\n",
       "      <td>47</td>\n",
       "      <td>0.272727</td>\n",
       "    </tr>\n",
       "    <tr>\n",
       "      <th>19</th>\n",
       "      <td>Olivier Giroud</td>\n",
       "      <td>Chelsea</td>\n",
       "      <td>FRA</td>\n",
       "      <td>FW</td>\n",
       "      <td>33</td>\n",
       "      <td>17</td>\n",
       "      <td>8</td>\n",
       "      <td>748</td>\n",
       "      <td>4</td>\n",
       "      <td>0</td>\n",
       "      <td>217</td>\n",
       "      <td>74.2</td>\n",
       "      <td>0</td>\n",
       "      <td>0</td>\n",
       "      <td>0.58</td>\n",
       "      <td>0.09</td>\n",
       "      <td>1</td>\n",
       "      <td>0</td>\n",
       "      <td>44</td>\n",
       "      <td>0.235294</td>\n",
       "    </tr>\n",
       "    <tr>\n",
       "      <th>23</th>\n",
       "      <td>Ruben Loftus-Cheek</td>\n",
       "      <td>Chelsea</td>\n",
       "      <td>ENG</td>\n",
       "      <td>FW</td>\n",
       "      <td>24</td>\n",
       "      <td>1</td>\n",
       "      <td>1</td>\n",
       "      <td>60</td>\n",
       "      <td>0</td>\n",
       "      <td>0</td>\n",
       "      <td>16</td>\n",
       "      <td>68.8</td>\n",
       "      <td>0</td>\n",
       "      <td>0</td>\n",
       "      <td>0.00</td>\n",
       "      <td>0.00</td>\n",
       "      <td>0</td>\n",
       "      <td>0</td>\n",
       "      <td>60</td>\n",
       "      <td>0.000000</td>\n",
       "    </tr>\n",
       "    <tr>\n",
       "      <th>30</th>\n",
       "      <td>Raheem Sterling</td>\n",
       "      <td>Manchester City</td>\n",
       "      <td>ENG</td>\n",
       "      <td>FW</td>\n",
       "      <td>25</td>\n",
       "      <td>31</td>\n",
       "      <td>28</td>\n",
       "      <td>2536</td>\n",
       "      <td>10</td>\n",
       "      <td>7</td>\n",
       "      <td>1127</td>\n",
       "      <td>85.4</td>\n",
       "      <td>0</td>\n",
       "      <td>1</td>\n",
       "      <td>0.43</td>\n",
       "      <td>0.17</td>\n",
       "      <td>4</td>\n",
       "      <td>0</td>\n",
       "      <td>81</td>\n",
       "      <td>0.322581</td>\n",
       "    </tr>\n",
       "    <tr>\n",
       "      <th>...</th>\n",
       "      <td>...</td>\n",
       "      <td>...</td>\n",
       "      <td>...</td>\n",
       "      <td>...</td>\n",
       "      <td>...</td>\n",
       "      <td>...</td>\n",
       "      <td>...</td>\n",
       "      <td>...</td>\n",
       "      <td>...</td>\n",
       "      <td>...</td>\n",
       "      <td>...</td>\n",
       "      <td>...</td>\n",
       "      <td>...</td>\n",
       "      <td>...</td>\n",
       "      <td>...</td>\n",
       "      <td>...</td>\n",
       "      <td>...</td>\n",
       "      <td>...</td>\n",
       "      <td>...</td>\n",
       "      <td>...</td>\n",
       "    </tr>\n",
       "    <tr>\n",
       "      <th>516</th>\n",
       "      <td>Oliver Burke</td>\n",
       "      <td>Sheffield United</td>\n",
       "      <td>SCO</td>\n",
       "      <td>FW</td>\n",
       "      <td>23</td>\n",
       "      <td>25</td>\n",
       "      <td>14</td>\n",
       "      <td>1269</td>\n",
       "      <td>1</td>\n",
       "      <td>1</td>\n",
       "      <td>262</td>\n",
       "      <td>70.6</td>\n",
       "      <td>0</td>\n",
       "      <td>0</td>\n",
       "      <td>0.17</td>\n",
       "      <td>0.13</td>\n",
       "      <td>2</td>\n",
       "      <td>0</td>\n",
       "      <td>50</td>\n",
       "      <td>0.040000</td>\n",
       "    </tr>\n",
       "    <tr>\n",
       "      <th>518</th>\n",
       "      <td>Oliver McBurnie</td>\n",
       "      <td>Sheffield United</td>\n",
       "      <td>SCO</td>\n",
       "      <td>FW</td>\n",
       "      <td>24</td>\n",
       "      <td>23</td>\n",
       "      <td>12</td>\n",
       "      <td>1324</td>\n",
       "      <td>1</td>\n",
       "      <td>0</td>\n",
       "      <td>426</td>\n",
       "      <td>62.9</td>\n",
       "      <td>0</td>\n",
       "      <td>0</td>\n",
       "      <td>0.21</td>\n",
       "      <td>0.07</td>\n",
       "      <td>2</td>\n",
       "      <td>0</td>\n",
       "      <td>57</td>\n",
       "      <td>0.043478</td>\n",
       "    </tr>\n",
       "    <tr>\n",
       "      <th>519</th>\n",
       "      <td>Rhian Brewster</td>\n",
       "      <td>Sheffield United</td>\n",
       "      <td>ENG</td>\n",
       "      <td>FW</td>\n",
       "      <td>20</td>\n",
       "      <td>27</td>\n",
       "      <td>12</td>\n",
       "      <td>1128</td>\n",
       "      <td>0</td>\n",
       "      <td>0</td>\n",
       "      <td>225</td>\n",
       "      <td>69.3</td>\n",
       "      <td>0</td>\n",
       "      <td>0</td>\n",
       "      <td>0.14</td>\n",
       "      <td>0.13</td>\n",
       "      <td>1</td>\n",
       "      <td>0</td>\n",
       "      <td>41</td>\n",
       "      <td>0.000000</td>\n",
       "    </tr>\n",
       "    <tr>\n",
       "      <th>523</th>\n",
       "      <td>Billy Sharp</td>\n",
       "      <td>Sheffield United</td>\n",
       "      <td>ENG</td>\n",
       "      <td>FW</td>\n",
       "      <td>34</td>\n",
       "      <td>16</td>\n",
       "      <td>7</td>\n",
       "      <td>735</td>\n",
       "      <td>3</td>\n",
       "      <td>0</td>\n",
       "      <td>123</td>\n",
       "      <td>69.9</td>\n",
       "      <td>2</td>\n",
       "      <td>2</td>\n",
       "      <td>0.33</td>\n",
       "      <td>0.07</td>\n",
       "      <td>1</td>\n",
       "      <td>0</td>\n",
       "      <td>45</td>\n",
       "      <td>0.187500</td>\n",
       "    </tr>\n",
       "    <tr>\n",
       "      <th>526</th>\n",
       "      <td>Daniel Jebbison</td>\n",
       "      <td>Sheffield United</td>\n",
       "      <td>ENG</td>\n",
       "      <td>FW</td>\n",
       "      <td>17</td>\n",
       "      <td>4</td>\n",
       "      <td>3</td>\n",
       "      <td>284</td>\n",
       "      <td>1</td>\n",
       "      <td>0</td>\n",
       "      <td>34</td>\n",
       "      <td>70.6</td>\n",
       "      <td>0</td>\n",
       "      <td>0</td>\n",
       "      <td>0.50</td>\n",
       "      <td>0.01</td>\n",
       "      <td>0</td>\n",
       "      <td>0</td>\n",
       "      <td>71</td>\n",
       "      <td>0.250000</td>\n",
       "    </tr>\n",
       "  </tbody>\n",
       "</table>\n",
       "<p>81 rows × 20 columns</p>\n",
       "</div>"
      ],
      "text/plain": [
       "                   Name              Club Nationality Position  Age  Matches  \\\n",
       "2           Timo Werner           Chelsea         GER       FW   24       35   \n",
       "16        Tammy Abraham           Chelsea         ENG       FW   22       22   \n",
       "19       Olivier Giroud           Chelsea         FRA       FW   33       17   \n",
       "23   Ruben Loftus-Cheek           Chelsea         ENG       FW   24        1   \n",
       "30      Raheem Sterling   Manchester City         ENG       FW   25       31   \n",
       "..                  ...               ...         ...      ...  ...      ...   \n",
       "516        Oliver Burke  Sheffield United         SCO       FW   23       25   \n",
       "518     Oliver McBurnie  Sheffield United         SCO       FW   24       23   \n",
       "519      Rhian Brewster  Sheffield United         ENG       FW   20       27   \n",
       "523         Billy Sharp  Sheffield United         ENG       FW   34       16   \n",
       "526     Daniel Jebbison  Sheffield United         ENG       FW   17        4   \n",
       "\n",
       "     Starts  Mins  Goals  Assists  Passes_Attempted  Perc_Passes_Completed  \\\n",
       "2        29  2602      6        8               826                   77.2   \n",
       "16       12  1040      6        1               218                   68.3   \n",
       "19        8   748      4        0               217                   74.2   \n",
       "23        1    60      0        0                16                   68.8   \n",
       "30       28  2536     10        7              1127                   85.4   \n",
       "..      ...   ...    ...      ...               ...                    ...   \n",
       "516      14  1269      1        1               262                   70.6   \n",
       "518      12  1324      1        0               426                   62.9   \n",
       "519      12  1128      0        0               225                   69.3   \n",
       "523       7   735      3        0               123                   69.9   \n",
       "526       3   284      1        0                34                   70.6   \n",
       "\n",
       "     Penalty_Goals  Penalty_Attempted    xG    xA  Yellow_Cards  Red_Cards  \\\n",
       "2                0                  0  0.41  0.21             2          0   \n",
       "16               0                  0  0.56  0.07             0          0   \n",
       "19               0                  0  0.58  0.09             1          0   \n",
       "23               0                  0  0.00  0.00             0          0   \n",
       "30               0                  1  0.43  0.17             4          0   \n",
       "..             ...                ...   ...   ...           ...        ...   \n",
       "516              0                  0  0.17  0.13             2          0   \n",
       "518              0                  0  0.21  0.07             2          0   \n",
       "519              0                  0  0.14  0.13             1          0   \n",
       "523              2                  2  0.33  0.07             1          0   \n",
       "526              0                  0  0.50  0.01             0          0   \n",
       "\n",
       "     MinsPerMatch  GoalsPerMatch  \n",
       "2              74       0.171429  \n",
       "16             47       0.272727  \n",
       "19             44       0.235294  \n",
       "23             60       0.000000  \n",
       "30             81       0.322581  \n",
       "..            ...            ...  \n",
       "516            50       0.040000  \n",
       "518            57       0.043478  \n",
       "519            41       0.000000  \n",
       "523            45       0.187500  \n",
       "526            71       0.250000  \n",
       "\n",
       "[81 rows x 20 columns]"
      ]
     },
     "execution_count": 55,
     "metadata": {},
     "output_type": "execute_result"
    }
   ],
   "source": [
    "# Filtrar jugadores delanteros (FW)\n",
    "\n",
    "epl[epl['Position'] == 'FW']\n"
   ]
  },
  {
   "cell_type": "code",
   "execution_count": 56,
   "metadata": {},
   "outputs": [
    {
     "data": {
      "text/plain": [
       "81"
      ]
     },
     "execution_count": 56,
     "metadata": {},
     "output_type": "execute_result"
    }
   ],
   "source": [
    "# Cantidad jugadores delanteros (FW)\n",
    "\n",
    "epl_fw = epl[epl['Position'] == 'FW']\n",
    "epl_fw['Name'].count()\n"
   ]
  },
  {
   "cell_type": "code",
   "execution_count": 57,
   "metadata": {},
   "outputs": [
    {
     "data": {
      "text/plain": [
       "59"
      ]
     },
     "execution_count": 57,
     "metadata": {},
     "output_type": "execute_result"
    }
   ],
   "source": [
    "#  Nacionalidad de los Jugadores\n",
    "\n",
    "np.size((epl['Nationality'].unique()))\n",
    "\n"
   ]
  },
  {
   "cell_type": "code",
   "execution_count": 62,
   "metadata": {},
   "outputs": [
    {
     "data": {
      "image/png": "[encoded data removed]",
      "text/plain": [
       "<Figure size 864x432 with 1 Axes>"
      ]
     },
     "metadata": {
      "needs_background": "light"
     },
     "output_type": "display_data"
    }
   ],
   "source": [
    "# Nacionalidad de la mayoría de los jugadores\n",
    "\n",
    "nationality = epl.groupby('Nationality').size().sort_values(ascending = False)\n",
    "nationality.head(10).plot(kind = 'bar', figsize = (12,6), color = sns.color_palette('magma'))\n",
    "\n",
    "plt.show()\n",
    "\n"
   ]
  },
  {
   "cell_type": "code",
   "execution_count": 63,
   "metadata": {},
   "outputs": [
    {
     "data": {
      "image/png": "[encoded data removed]",
      "text/plain": [
       "<Figure size 432x288 with 1 Axes>"
      ]
     },
     "metadata": {
      "needs_background": "light"
     },
     "output_type": "display_data"
    }
   ],
   "source": [
    "# Los Club con maximo numero de jugadores en la temporada\n",
    "\n",
    "epl['Club'].value_counts().nlargest(7).plot(kind = 'bar',\n",
    "                                                     color = sns.color_palette('viridis'))\n",
    "plt.show()\n"
   ]
  },
  {
   "cell_type": "code",
   "execution_count": 64,
   "metadata": {},
   "outputs": [
    {
     "data": {
      "image/png": "[encoded data removed]",
      "text/plain": [
       "<Figure size 432x288 with 1 Axes>"
      ]
     },
     "metadata": {
      "needs_background": "light"
     },
     "output_type": "display_data"
    }
   ],
   "source": [
    "# Los Club con menor numero de jugadores en la temporada\n",
    "epl['Club'].value_counts().nsmallest(7).plot(kind = 'bar',\n",
    "                                                     color = sns.color_palette('viridis'))\n",
    "plt.show()\n",
    "\n"
   ]
  },
  {
   "cell_type": "markdown",
   "metadata": {},
   "source": [
    "### Edad de los jugadores"
   ]
  },
  {
   "cell_type": "code",
   "execution_count": 66,
   "metadata": {},
   "outputs": [],
   "source": [
    "# Grupo de edades de los Jugadores\n",
    "Under_20 = epl[epl['Age'] <= 20]\n",
    "Age_20_25 = epl[(epl['Age'] > 20) & (epl['Age'] <= 25) ]\n",
    "Age_25_30 = epl[(epl['Age'] > 25) & (epl['Age'] <= 30) ]\n",
    "Above_30 = epl[epl['Age'] > 30]\n",
    "\n"
   ]
  },
  {
   "cell_type": "code",
   "execution_count": 67,
   "metadata": {
    "tags": []
   },
   "outputs": [
    {
     "data": {
      "image/png": "[encoded data removed]",
      "text/plain": [
       "<Figure size 936x432 with 1 Axes>"
      ]
     },
     "metadata": {},
     "output_type": "display_data"
    }
   ],
   "source": [
    "x = np.array([Under_20['Name'].count(), Age_20_25['Name'].count(), \n",
    "              Age_25_30['Name'].count(),Above_30['Name'].count()])\n",
    "mylabels = ['<= 20', '>2 0 & <= 25', '> 25 & <= 30', '> 30']\n",
    "\n",
    "plt.figure(figsize = (13,6))\n",
    "plt.title('Total de Jugadores por Grupos de Edad', fontsize = 20)\n",
    "plt.pie( x, labels = mylabels, autopct = '%.1f%%')\n",
    "plt.show()"
   ]
  },
  {
   "cell_type": "code",
   "execution_count": 68,
   "metadata": {},
   "outputs": [
    {
     "data": {
      "image/png": "[encoded data removed]",
      "text/plain": [
       "<Figure size 432x288 with 1 Axes>"
      ]
     },
     "metadata": {
      "needs_background": "light"
     },
     "output_type": "display_data"
    }
   ],
   "source": [
    "# Total de jugadores menores de 20 años en cada club\n",
    "Players_Under_20 = epl[epl['Age'] < 20]\n",
    "Players_Under_20['Club'].value_counts().plot(kind = 'bar',\n",
    "                                          color = sns.color_palette('cubehelix'))\n",
    "                                             \n",
    "plt.show()\n"
   ]
  },
  {
   "cell_type": "code",
   "execution_count": 69,
   "metadata": {},
   "outputs": [
    {
     "data": {
      "text/html": [
       "<div>\n",
       "<style scoped>\n",
       "    .dataframe tbody tr th:only-of-type {\n",
       "        vertical-align: middle;\n",
       "    }\n",
       "\n",
       "    .dataframe tbody tr th {\n",
       "        vertical-align: top;\n",
       "    }\n",
       "\n",
       "    .dataframe thead th {\n",
       "        text-align: right;\n",
       "    }\n",
       "</style>\n",
       "<table border=\"1\" class=\"dataframe\">\n",
       "  <thead>\n",
       "    <tr style=\"text-align: right;\">\n",
       "      <th></th>\n",
       "      <th>Name</th>\n",
       "      <th>Club</th>\n",
       "      <th>Nationality</th>\n",
       "      <th>Position</th>\n",
       "      <th>Age</th>\n",
       "      <th>Matches</th>\n",
       "      <th>Starts</th>\n",
       "      <th>Mins</th>\n",
       "      <th>Goals</th>\n",
       "      <th>Assists</th>\n",
       "      <th>Passes_Attempted</th>\n",
       "      <th>Perc_Passes_Completed</th>\n",
       "      <th>Penalty_Goals</th>\n",
       "      <th>Penalty_Attempted</th>\n",
       "      <th>xG</th>\n",
       "      <th>xA</th>\n",
       "      <th>Yellow_Cards</th>\n",
       "      <th>Red_Cards</th>\n",
       "      <th>MinsPerMatch</th>\n",
       "      <th>GoalsPerMatch</th>\n",
       "    </tr>\n",
       "  </thead>\n",
       "  <tbody>\n",
       "    <tr>\n",
       "      <th>61</th>\n",
       "      <td>Mason Greenwood</td>\n",
       "      <td>Manchester United</td>\n",
       "      <td>ENG</td>\n",
       "      <td>FW</td>\n",
       "      <td>18</td>\n",
       "      <td>31</td>\n",
       "      <td>21</td>\n",
       "      <td>1822</td>\n",
       "      <td>7</td>\n",
       "      <td>2</td>\n",
       "      <td>732</td>\n",
       "      <td>83.1</td>\n",
       "      <td>0</td>\n",
       "      <td>0</td>\n",
       "      <td>0.37</td>\n",
       "      <td>0.09</td>\n",
       "      <td>2</td>\n",
       "      <td>0</td>\n",
       "      <td>58</td>\n",
       "      <td>0.225806</td>\n",
       "    </tr>\n",
       "    <tr>\n",
       "      <th>72</th>\n",
       "      <td>Brandon Williams</td>\n",
       "      <td>Manchester United</td>\n",
       "      <td>ENG</td>\n",
       "      <td>DF</td>\n",
       "      <td>19</td>\n",
       "      <td>4</td>\n",
       "      <td>2</td>\n",
       "      <td>188</td>\n",
       "      <td>0</td>\n",
       "      <td>0</td>\n",
       "      <td>140</td>\n",
       "      <td>85.7</td>\n",
       "      <td>0</td>\n",
       "      <td>0</td>\n",
       "      <td>0.05</td>\n",
       "      <td>0.01</td>\n",
       "      <td>0</td>\n",
       "      <td>0</td>\n",
       "      <td>47</td>\n",
       "      <td>0.000000</td>\n",
       "    </tr>\n",
       "    <tr>\n",
       "      <th>73</th>\n",
       "      <td>Amad Diallo</td>\n",
       "      <td>Manchester United</td>\n",
       "      <td>CIV</td>\n",
       "      <td>FW</td>\n",
       "      <td>18</td>\n",
       "      <td>3</td>\n",
       "      <td>2</td>\n",
       "      <td>166</td>\n",
       "      <td>0</td>\n",
       "      <td>1</td>\n",
       "      <td>64</td>\n",
       "      <td>84.4</td>\n",
       "      <td>0</td>\n",
       "      <td>0</td>\n",
       "      <td>0.02</td>\n",
       "      <td>0.26</td>\n",
       "      <td>0</td>\n",
       "      <td>0</td>\n",
       "      <td>55</td>\n",
       "      <td>0.000000</td>\n",
       "    </tr>\n",
       "    <tr>\n",
       "      <th>74</th>\n",
       "      <td>Anthony Elanga</td>\n",
       "      <td>Manchester United</td>\n",
       "      <td>SWE</td>\n",
       "      <td>FW</td>\n",
       "      <td>18</td>\n",
       "      <td>2</td>\n",
       "      <td>2</td>\n",
       "      <td>155</td>\n",
       "      <td>1</td>\n",
       "      <td>0</td>\n",
       "      <td>53</td>\n",
       "      <td>81.1</td>\n",
       "      <td>0</td>\n",
       "      <td>0</td>\n",
       "      <td>0.16</td>\n",
       "      <td>0.02</td>\n",
       "      <td>0</td>\n",
       "      <td>0</td>\n",
       "      <td>77</td>\n",
       "      <td>0.500000</td>\n",
       "    </tr>\n",
       "    <tr>\n",
       "      <th>76</th>\n",
       "      <td>Shola Shoretire</td>\n",
       "      <td>Manchester United</td>\n",
       "      <td>ENG</td>\n",
       "      <td>FW</td>\n",
       "      <td>16</td>\n",
       "      <td>2</td>\n",
       "      <td>0</td>\n",
       "      <td>11</td>\n",
       "      <td>0</td>\n",
       "      <td>0</td>\n",
       "      <td>8</td>\n",
       "      <td>75.0</td>\n",
       "      <td>0</td>\n",
       "      <td>0</td>\n",
       "      <td>0.00</td>\n",
       "      <td>0.00</td>\n",
       "      <td>0</td>\n",
       "      <td>0</td>\n",
       "      <td>5</td>\n",
       "      <td>0.000000</td>\n",
       "    </tr>\n",
       "    <tr>\n",
       "      <th>78</th>\n",
       "      <td>Hannibal Mejbri</td>\n",
       "      <td>Manchester United</td>\n",
       "      <td>FRA</td>\n",
       "      <td>MF</td>\n",
       "      <td>17</td>\n",
       "      <td>1</td>\n",
       "      <td>0</td>\n",
       "      <td>9</td>\n",
       "      <td>0</td>\n",
       "      <td>0</td>\n",
       "      <td>3</td>\n",
       "      <td>100.0</td>\n",
       "      <td>0</td>\n",
       "      <td>0</td>\n",
       "      <td>0.00</td>\n",
       "      <td>0.00</td>\n",
       "      <td>0</td>\n",
       "      <td>0</td>\n",
       "      <td>9</td>\n",
       "      <td>0.000000</td>\n",
       "    </tr>\n",
       "    <tr>\n",
       "      <th>79</th>\n",
       "      <td>William Thomas Fish</td>\n",
       "      <td>Manchester United</td>\n",
       "      <td>ENG</td>\n",
       "      <td>DF</td>\n",
       "      <td>17</td>\n",
       "      <td>1</td>\n",
       "      <td>0</td>\n",
       "      <td>1</td>\n",
       "      <td>0</td>\n",
       "      <td>0</td>\n",
       "      <td>1</td>\n",
       "      <td>0.0</td>\n",
       "      <td>0</td>\n",
       "      <td>0</td>\n",
       "      <td>0.00</td>\n",
       "      <td>0.00</td>\n",
       "      <td>0</td>\n",
       "      <td>0</td>\n",
       "      <td>1</td>\n",
       "      <td>0.000000</td>\n",
       "    </tr>\n",
       "  </tbody>\n",
       "</table>\n",
       "</div>"
      ],
      "text/plain": [
       "                   Name               Club Nationality Position  Age  Matches  \\\n",
       "61      Mason Greenwood  Manchester United         ENG       FW   18       31   \n",
       "72     Brandon Williams  Manchester United         ENG       DF   19        4   \n",
       "73          Amad Diallo  Manchester United         CIV       FW   18        3   \n",
       "74       Anthony Elanga  Manchester United         SWE       FW   18        2   \n",
       "76      Shola Shoretire  Manchester United         ENG       FW   16        2   \n",
       "78      Hannibal Mejbri  Manchester United         FRA       MF   17        1   \n",
       "79  William Thomas Fish  Manchester United         ENG       DF   17        1   \n",
       "\n",
       "    Starts  Mins  Goals  Assists  Passes_Attempted  Perc_Passes_Completed  \\\n",
       "61      21  1822      7        2               732                   83.1   \n",
       "72       2   188      0        0               140                   85.7   \n",
       "73       2   166      0        1                64                   84.4   \n",
       "74       2   155      1        0                53                   81.1   \n",
       "76       0    11      0        0                 8                   75.0   \n",
       "78       0     9      0        0                 3                  100.0   \n",
       "79       0     1      0        0                 1                    0.0   \n",
       "\n",
       "    Penalty_Goals  Penalty_Attempted    xG    xA  Yellow_Cards  Red_Cards  \\\n",
       "61              0                  0  0.37  0.09             2          0   \n",
       "72              0                  0  0.05  0.01             0          0   \n",
       "73              0                  0  0.02  0.26             0          0   \n",
       "74              0                  0  0.16  0.02             0          0   \n",
       "76              0                  0  0.00  0.00             0          0   \n",
       "78              0                  0  0.00  0.00             0          0   \n",
       "79              0                  0  0.00  0.00             0          0   \n",
       "\n",
       "    MinsPerMatch  GoalsPerMatch  \n",
       "61            58       0.225806  \n",
       "72            47       0.000000  \n",
       "73            55       0.000000  \n",
       "74            77       0.500000  \n",
       "76             5       0.000000  \n",
       "78             9       0.000000  \n",
       "79             1       0.000000  "
      ]
     },
     "execution_count": 69,
     "metadata": {},
     "output_type": "execute_result"
    }
   ],
   "source": [
    "# Jugadores menores de 20 años en  club Manchester United (7)\n",
    "Players_Under_20[Players_Under_20['Club']=='Manchester United'] "
   ]
  },
  {
   "cell_type": "code",
   "execution_count": 70,
   "metadata": {},
   "outputs": [
    {
     "data": {
      "text/html": [
       "<div>\n",
       "<style scoped>\n",
       "    .dataframe tbody tr th:only-of-type {\n",
       "        vertical-align: middle;\n",
       "    }\n",
       "\n",
       "    .dataframe tbody tr th {\n",
       "        vertical-align: top;\n",
       "    }\n",
       "\n",
       "    .dataframe thead th {\n",
       "        text-align: right;\n",
       "    }\n",
       "</style>\n",
       "<table border=\"1\" class=\"dataframe\">\n",
       "  <thead>\n",
       "    <tr style=\"text-align: right;\">\n",
       "      <th></th>\n",
       "      <th>Name</th>\n",
       "      <th>Club</th>\n",
       "      <th>Nationality</th>\n",
       "      <th>Position</th>\n",
       "      <th>Age</th>\n",
       "      <th>Matches</th>\n",
       "      <th>Starts</th>\n",
       "      <th>Mins</th>\n",
       "      <th>Goals</th>\n",
       "      <th>Assists</th>\n",
       "      <th>Passes_Attempted</th>\n",
       "      <th>Perc_Passes_Completed</th>\n",
       "      <th>Penalty_Goals</th>\n",
       "      <th>Penalty_Attempted</th>\n",
       "      <th>xG</th>\n",
       "      <th>xA</th>\n",
       "      <th>Yellow_Cards</th>\n",
       "      <th>Red_Cards</th>\n",
       "      <th>MinsPerMatch</th>\n",
       "      <th>GoalsPerMatch</th>\n",
       "    </tr>\n",
       "  </thead>\n",
       "  <tbody>\n",
       "    <tr>\n",
       "      <th>18</th>\n",
       "      <td>Callum Hudson-Odoi</td>\n",
       "      <td>Chelsea</td>\n",
       "      <td>ENG</td>\n",
       "      <td>FW,DF</td>\n",
       "      <td>19</td>\n",
       "      <td>23</td>\n",
       "      <td>10</td>\n",
       "      <td>1059</td>\n",
       "      <td>2</td>\n",
       "      <td>3</td>\n",
       "      <td>659</td>\n",
       "      <td>82.2</td>\n",
       "      <td>0</td>\n",
       "      <td>0</td>\n",
       "      <td>0.12</td>\n",
       "      <td>0.26</td>\n",
       "      <td>0</td>\n",
       "      <td>0</td>\n",
       "      <td>46</td>\n",
       "      <td>0.086957</td>\n",
       "    </tr>\n",
       "    <tr>\n",
       "      <th>21</th>\n",
       "      <td>Billy Gilmour</td>\n",
       "      <td>Chelsea</td>\n",
       "      <td>SCO</td>\n",
       "      <td>MF</td>\n",
       "      <td>19</td>\n",
       "      <td>5</td>\n",
       "      <td>3</td>\n",
       "      <td>261</td>\n",
       "      <td>0</td>\n",
       "      <td>0</td>\n",
       "      <td>215</td>\n",
       "      <td>89.3</td>\n",
       "      <td>0</td>\n",
       "      <td>0</td>\n",
       "      <td>0.01</td>\n",
       "      <td>0.04</td>\n",
       "      <td>0</td>\n",
       "      <td>0</td>\n",
       "      <td>52</td>\n",
       "      <td>0.000000</td>\n",
       "    </tr>\n",
       "  </tbody>\n",
       "</table>\n",
       "</div>"
      ],
      "text/plain": [
       "                  Name     Club Nationality Position  Age  Matches  Starts  \\\n",
       "18  Callum Hudson-Odoi  Chelsea         ENG    FW,DF   19       23      10   \n",
       "21       Billy Gilmour  Chelsea         SCO       MF   19        5       3   \n",
       "\n",
       "    Mins  Goals  Assists  Passes_Attempted  Perc_Passes_Completed  \\\n",
       "18  1059      2        3               659                   82.2   \n",
       "21   261      0        0               215                   89.3   \n",
       "\n",
       "    Penalty_Goals  Penalty_Attempted    xG    xA  Yellow_Cards  Red_Cards  \\\n",
       "18              0                  0  0.12  0.26             0          0   \n",
       "21              0                  0  0.01  0.04             0          0   \n",
       "\n",
       "    MinsPerMatch  GoalsPerMatch  \n",
       "18            46       0.086957  \n",
       "21            52       0.000000  "
      ]
     },
     "execution_count": 70,
     "metadata": {},
     "output_type": "execute_result"
    }
   ],
   "source": [
    "# Jugadores menores de 20 años en  club Chelsea (7)\n",
    "\n",
    "Players_Under_20[Players_Under_20['Club']=='Chelsea'] "
   ]
  },
  {
   "cell_type": "code",
   "execution_count": 72,
   "metadata": {
    "tags": []
   },
   "outputs": [
    {
     "data": {
      "image/png": "[encoded data removed]",
      "text/plain": [
       "<Figure size 936x432 with 1 Axes>"
      ]
     },
     "metadata": {
      "needs_background": "light"
     },
     "output_type": "display_data"
    }
   ],
   "source": [
    "# Gráfico BoxPlot de la edad promedio de los jugadores de cada club\n",
    "plt.figure(figsize = (13,6))\n",
    "sns.boxplot(x = 'Club', y = 'Age', data = epl)\n",
    "plt.xticks(rotation = 90)\n",
    "\n",
    "plt.show()"
   ]
  },
  {
   "cell_type": "code",
   "execution_count": 75,
   "metadata": {
    "tags": []
   },
   "outputs": [
    {
     "data": {
      "text/plain": [
       "Club\n",
       "Crystal Palace             28.333333\n",
       "West Ham United            27.500000\n",
       "Burnley                    27.040000\n",
       "West Bromwich Albion       26.766667\n",
       "Newcastle United           26.074074\n",
       "Manchester City            25.708333\n",
       "Tottenham Hotspur          25.625000\n",
       "Chelsea                    25.592593\n",
       "Leicester City             25.592593\n",
       "Liverpool FC               25.571429\n",
       "Everton                    25.413793\n",
       "Leeds United               25.347826\n",
       "Fulham                     25.035714\n",
       "Arsenal                    24.965517\n",
       "Sheffield United           24.814815\n",
       "Brighton                   24.555556\n",
       "Wolverhampton Wanderers    24.444444\n",
       "Aston Villa                24.291667\n",
       "Southampton                24.137931\n",
       "Manchester United          23.862069\n",
       "dtype: float64"
      ]
     },
     "execution_count": 75,
     "metadata": {},
     "output_type": "execute_result"
    }
   ],
   "source": [
    "# Clubs con Edades promedio mas altas\n",
    "num_player = epl.groupby('Club').size()\n",
    "\n",
    "data = (epl.groupby('Club')['Age'].sum() / num_player ) \n",
    "\n",
    "data.sort_values(ascending = False)\n",
    "\n"
   ]
  },
  {
   "cell_type": "code",
   "execution_count": 77,
   "metadata": {
    "tags": []
   },
   "outputs": [
    {
     "data": {
      "image/png": "[encoded data removed]",
      "text/plain": [
       "<Figure size 432x288 with 1 Axes>"
      ]
     },
     "metadata": {},
     "output_type": "display_data"
    }
   ],
   "source": [
    "# Grafica de Total de asistencias gol por cada club\n",
    "Assits_by_club = pd.DataFrame(epl.groupby('Club', as_index = False)['Assists'].sum())\n",
    "sns.set(style = 'whitegrid', color_codes = True)\n",
    "ax = sns.barplot(x = 'Club', y = 'Assists', data = Assits_by_club.sort_values(by='Assists'), palette = 'Set2')\n",
    "ax.set_xlabel('Club', fontsize = 30)\n",
    "ax.set_ylabel('Assits', fontsize = 20)\n",
    "plt.xticks(rotation = 75)\n",
    "\n",
    "plt.rcParams['figure.figsize'] = (20,9)\n",
    "plt.title('Gráfica de Club vs Total de Asistencias Gol', fontsize = 20)\n",
    "plt.show()\n",
    "\n"
   ]
  },
  {
   "cell_type": "code",
   "execution_count": 78,
   "metadata": {},
   "outputs": [
    {
     "data": {
      "text/plain": [
       "Index(['Name', 'Club', 'Nationality', 'Position', 'Age', 'Matches', 'Starts',\n",
       "       'Mins', 'Goals', 'Assists', 'Passes_Attempted', 'Perc_Passes_Completed',\n",
       "       'Penalty_Goals', 'Penalty_Attempted', 'xG', 'xA', 'Yellow_Cards',\n",
       "       'Red_Cards', 'MinsPerMatch', 'GoalsPerMatch'],\n",
       "      dtype='object')"
      ]
     },
     "execution_count": 78,
     "metadata": {},
     "output_type": "execute_result"
    }
   ],
   "source": [
    "epl.columns\n"
   ]
  },
  {
   "cell_type": "code",
   "execution_count": 79,
   "metadata": {},
   "outputs": [
    {
     "data": {
      "text/html": [
       "<div>\n",
       "<style scoped>\n",
       "    .dataframe tbody tr th:only-of-type {\n",
       "        vertical-align: middle;\n",
       "    }\n",
       "\n",
       "    .dataframe tbody tr th {\n",
       "        vertical-align: top;\n",
       "    }\n",
       "\n",
       "    .dataframe thead th {\n",
       "        text-align: right;\n",
       "    }\n",
       "</style>\n",
       "<table border=\"1\" class=\"dataframe\">\n",
       "  <thead>\n",
       "    <tr style=\"text-align: right;\">\n",
       "      <th></th>\n",
       "      <th>Name</th>\n",
       "      <th>Club</th>\n",
       "      <th>Assists</th>\n",
       "      <th>Matches</th>\n",
       "    </tr>\n",
       "  </thead>\n",
       "  <tbody>\n",
       "    <tr>\n",
       "      <th>162</th>\n",
       "      <td>Harry Kane</td>\n",
       "      <td>Tottenham Hotspur</td>\n",
       "      <td>14</td>\n",
       "      <td>35</td>\n",
       "    </tr>\n",
       "    <tr>\n",
       "      <th>34</th>\n",
       "      <td>Kevin De Bruyne</td>\n",
       "      <td>Manchester City</td>\n",
       "      <td>12</td>\n",
       "      <td>25</td>\n",
       "    </tr>\n",
       "    <tr>\n",
       "      <th>51</th>\n",
       "      <td>Bruno Fernandes</td>\n",
       "      <td>Manchester United</td>\n",
       "      <td>12</td>\n",
       "      <td>37</td>\n",
       "    </tr>\n",
       "    <tr>\n",
       "      <th>161</th>\n",
       "      <td>Son Heung-min</td>\n",
       "      <td>Tottenham Hotspur</td>\n",
       "      <td>10</td>\n",
       "      <td>37</td>\n",
       "    </tr>\n",
       "    <tr>\n",
       "      <th>273</th>\n",
       "      <td>Jack Grealish</td>\n",
       "      <td>Aston Villa</td>\n",
       "      <td>10</td>\n",
       "      <td>26</td>\n",
       "    </tr>\n",
       "    <tr>\n",
       "      <th>54</th>\n",
       "      <td>Marcus Rashford</td>\n",
       "      <td>Manchester United</td>\n",
       "      <td>9</td>\n",
       "      <td>37</td>\n",
       "    </tr>\n",
       "    <tr>\n",
       "      <th>110</th>\n",
       "      <td>Jamie Vardy</td>\n",
       "      <td>Leicester City</td>\n",
       "      <td>9</td>\n",
       "      <td>34</td>\n",
       "    </tr>\n",
       "    <tr>\n",
       "      <th>220</th>\n",
       "      <td>Raphael Dias Belloli</td>\n",
       "      <td>Leeds United</td>\n",
       "      <td>9</td>\n",
       "      <td>30</td>\n",
       "    </tr>\n",
       "    <tr>\n",
       "      <th>2</th>\n",
       "      <td>Timo Werner</td>\n",
       "      <td>Chelsea</td>\n",
       "      <td>8</td>\n",
       "      <td>35</td>\n",
       "    </tr>\n",
       "    <tr>\n",
       "      <th>136</th>\n",
       "      <td>Aaron Cresswell</td>\n",
       "      <td>West Ham United</td>\n",
       "      <td>8</td>\n",
       "      <td>36</td>\n",
       "    </tr>\n",
       "  </tbody>\n",
       "</table>\n",
       "</div>"
      ],
      "text/plain": [
       "                     Name               Club  Assists  Matches\n",
       "162            Harry Kane  Tottenham Hotspur       14       35\n",
       "34        Kevin De Bruyne    Manchester City       12       25\n",
       "51        Bruno Fernandes  Manchester United       12       37\n",
       "161         Son Heung-min  Tottenham Hotspur       10       37\n",
       "273         Jack Grealish        Aston Villa       10       26\n",
       "54        Marcus Rashford  Manchester United        9       37\n",
       "110           Jamie Vardy     Leicester City        9       34\n",
       "220  Raphael Dias Belloli       Leeds United        9       30\n",
       "2             Timo Werner            Chelsea        8       35\n",
       "136       Aaron Cresswell    West Ham United        8       36"
      ]
     },
     "execution_count": 79,
     "metadata": {},
     "output_type": "execute_result"
    }
   ],
   "source": [
    "# Jugadores top de 10 Asistencias Gol\n",
    "\n",
    "top_10_assists = epl[['Name','Club','Assists','Matches']].nlargest(n = 10, columns ='Assists')\n",
    "\n",
    "top_10_assists\n",
    "\n"
   ]
  },
  {
   "cell_type": "code",
   "execution_count": 80,
   "metadata": {
    "tags": []
   },
   "outputs": [
    {
     "data": {
      "image/png": "[encoded data removed]",
      "text/plain": [
       "<Figure size 1440x648 with 1 Axes>"
      ]
     },
     "metadata": {},
     "output_type": "display_data"
    }
   ],
   "source": [
    "# Grafica del total de goles de cada club\n",
    "\n",
    "Goals_by_clubs = pd.DataFrame(epl.groupby('Club', as_index = False)['Goals'].sum())\n",
    "sns.set(style = 'whitegrid', color_codes = True)\n",
    "ax = sns.barplot(x = 'Club', y = 'Goals', data = Goals_by_clubs.sort_values(by='Goals'), palette = 'rocket')\n",
    "ax.set_xlabel('Club', fontsize = 25)\n",
    "ax.set_ylabel('Goals', fontsize = 20)\n",
    "plt.xticks(rotation = 75)\n",
    "\n",
    "plt.rcParams['figure.figsize'] = (20,9)\n",
    "plt.title('Gráfica de Club vs Total de Asistencias Gol', fontsize = 20)\n",
    "plt.show()\n"
   ]
  },
  {
   "cell_type": "code",
   "execution_count": 82,
   "metadata": {},
   "outputs": [
    {
     "data": {
      "text/html": [
       "<div>\n",
       "<style scoped>\n",
       "    .dataframe tbody tr th:only-of-type {\n",
       "        vertical-align: middle;\n",
       "    }\n",
       "\n",
       "    .dataframe tbody tr th {\n",
       "        vertical-align: top;\n",
       "    }\n",
       "\n",
       "    .dataframe thead th {\n",
       "        text-align: right;\n",
       "    }\n",
       "</style>\n",
       "<table border=\"1\" class=\"dataframe\">\n",
       "  <thead>\n",
       "    <tr style=\"text-align: right;\">\n",
       "      <th></th>\n",
       "      <th>Name</th>\n",
       "      <th>Club</th>\n",
       "      <th>Goals</th>\n",
       "      <th>Matches</th>\n",
       "    </tr>\n",
       "  </thead>\n",
       "  <tbody>\n",
       "    <tr>\n",
       "      <th>162</th>\n",
       "      <td>Harry Kane</td>\n",
       "      <td>Tottenham Hotspur</td>\n",
       "      <td>23</td>\n",
       "      <td>35</td>\n",
       "    </tr>\n",
       "    <tr>\n",
       "      <th>81</th>\n",
       "      <td>Mohamed Salah</td>\n",
       "      <td>Liverpool FC</td>\n",
       "      <td>22</td>\n",
       "      <td>37</td>\n",
       "    </tr>\n",
       "    <tr>\n",
       "      <th>51</th>\n",
       "      <td>Bruno Fernandes</td>\n",
       "      <td>Manchester United</td>\n",
       "      <td>18</td>\n",
       "      <td>37</td>\n",
       "    </tr>\n",
       "    <tr>\n",
       "      <th>161</th>\n",
       "      <td>Son Heung-min</td>\n",
       "      <td>Tottenham Hotspur</td>\n",
       "      <td>17</td>\n",
       "      <td>37</td>\n",
       "    </tr>\n",
       "    <tr>\n",
       "      <th>214</th>\n",
       "      <td>Patrick Bamford</td>\n",
       "      <td>Leeds United</td>\n",
       "      <td>17</td>\n",
       "      <td>38</td>\n",
       "    </tr>\n",
       "    <tr>\n",
       "      <th>237</th>\n",
       "      <td>Dominic Calvert-Lewin</td>\n",
       "      <td>Everton</td>\n",
       "      <td>16</td>\n",
       "      <td>33</td>\n",
       "    </tr>\n",
       "    <tr>\n",
       "      <th>110</th>\n",
       "      <td>Jamie Vardy</td>\n",
       "      <td>Leicester City</td>\n",
       "      <td>15</td>\n",
       "      <td>34</td>\n",
       "    </tr>\n",
       "    <tr>\n",
       "      <th>267</th>\n",
       "      <td>Ollie Watkins</td>\n",
       "      <td>Aston Villa</td>\n",
       "      <td>14</td>\n",
       "      <td>37</td>\n",
       "    </tr>\n",
       "    <tr>\n",
       "      <th>33</th>\n",
       "      <td>İlkay Gündoğan</td>\n",
       "      <td>Manchester City</td>\n",
       "      <td>13</td>\n",
       "      <td>28</td>\n",
       "    </tr>\n",
       "    <tr>\n",
       "      <th>191</th>\n",
       "      <td>Alexandre Lacazette</td>\n",
       "      <td>Arsenal</td>\n",
       "      <td>13</td>\n",
       "      <td>31</td>\n",
       "    </tr>\n",
       "  </tbody>\n",
       "</table>\n",
       "</div>"
      ],
      "text/plain": [
       "                      Name               Club  Goals  Matches\n",
       "162             Harry Kane  Tottenham Hotspur     23       35\n",
       "81           Mohamed Salah       Liverpool FC     22       37\n",
       "51         Bruno Fernandes  Manchester United     18       37\n",
       "161          Son Heung-min  Tottenham Hotspur     17       37\n",
       "214        Patrick Bamford       Leeds United     17       38\n",
       "237  Dominic Calvert-Lewin            Everton     16       33\n",
       "110            Jamie Vardy     Leicester City     15       34\n",
       "267          Ollie Watkins        Aston Villa     14       37\n",
       "33          İlkay Gündoğan    Manchester City     13       28\n",
       "191    Alexandre Lacazette            Arsenal     13       31"
      ]
     },
     "execution_count": 82,
     "metadata": {},
     "output_type": "execute_result"
    }
   ],
   "source": [
    "#Top 10 de  Goles por Jugador\n",
    "top_10_goals = epl[['Name','Club','Goals','Matches']].nlargest(n = 10, columns ='Goals')\n",
    "\n",
    "top_10_goals\n"
   ]
  },
  {
   "cell_type": "code",
   "execution_count": 83,
   "metadata": {},
   "outputs": [
    {
     "data": {
      "text/plain": [
       "Index(['Name', 'Club', 'Nationality', 'Position', 'Age', 'Matches', 'Starts',\n",
       "       'Mins', 'Goals', 'Assists', 'Passes_Attempted', 'Perc_Passes_Completed',\n",
       "       'Penalty_Goals', 'Penalty_Attempted', 'xG', 'xA', 'Yellow_Cards',\n",
       "       'Red_Cards', 'MinsPerMatch', 'GoalsPerMatch'],\n",
       "      dtype='object')"
      ]
     },
     "execution_count": 83,
     "metadata": {},
     "output_type": "execute_result"
    }
   ],
   "source": [
    "epl.columns\n"
   ]
  },
  {
   "cell_type": "code",
   "execution_count": 84,
   "metadata": {
    "tags": []
   },
   "outputs": [
    {
     "data": {
      "text/html": [
       "<div>\n",
       "<style scoped>\n",
       "    .dataframe tbody tr th:only-of-type {\n",
       "        vertical-align: middle;\n",
       "    }\n",
       "\n",
       "    .dataframe tbody tr th {\n",
       "        vertical-align: top;\n",
       "    }\n",
       "\n",
       "    .dataframe thead th {\n",
       "        text-align: right;\n",
       "    }\n",
       "</style>\n",
       "<table border=\"1\" class=\"dataframe\">\n",
       "  <thead>\n",
       "    <tr style=\"text-align: right;\">\n",
       "      <th></th>\n",
       "      <th>Name</th>\n",
       "      <th>GoalsPerMatch</th>\n",
       "      <th>Goals</th>\n",
       "      <th>Matches</th>\n",
       "    </tr>\n",
       "  </thead>\n",
       "  <tbody>\n",
       "    <tr>\n",
       "      <th>162</th>\n",
       "      <td>Harry Kane</td>\n",
       "      <td>0.657143</td>\n",
       "      <td>23</td>\n",
       "      <td>35</td>\n",
       "    </tr>\n",
       "    <tr>\n",
       "      <th>81</th>\n",
       "      <td>Mohamed Salah</td>\n",
       "      <td>0.594595</td>\n",
       "      <td>22</td>\n",
       "      <td>37</td>\n",
       "    </tr>\n",
       "    <tr>\n",
       "      <th>307</th>\n",
       "      <td>Joe Willock</td>\n",
       "      <td>0.571429</td>\n",
       "      <td>8</td>\n",
       "      <td>14</td>\n",
       "    </tr>\n",
       "    <tr>\n",
       "      <th>145</th>\n",
       "      <td>Jesse Lingard</td>\n",
       "      <td>0.562500</td>\n",
       "      <td>9</td>\n",
       "      <td>16</td>\n",
       "    </tr>\n",
       "    <tr>\n",
       "      <th>175</th>\n",
       "      <td>Gareth Bale</td>\n",
       "      <td>0.550000</td>\n",
       "      <td>11</td>\n",
       "      <td>20</td>\n",
       "    </tr>\n",
       "    <tr>\n",
       "      <th>74</th>\n",
       "      <td>Anthony Elanga</td>\n",
       "      <td>0.500000</td>\n",
       "      <td>1</td>\n",
       "      <td>2</td>\n",
       "    </tr>\n",
       "    <tr>\n",
       "      <th>51</th>\n",
       "      <td>Bruno Fernandes</td>\n",
       "      <td>0.486486</td>\n",
       "      <td>18</td>\n",
       "      <td>37</td>\n",
       "    </tr>\n",
       "    <tr>\n",
       "      <th>237</th>\n",
       "      <td>Dominic Calvert-Lewin</td>\n",
       "      <td>0.484848</td>\n",
       "      <td>16</td>\n",
       "      <td>33</td>\n",
       "    </tr>\n",
       "    <tr>\n",
       "      <th>120</th>\n",
       "      <td>Kelechi Iheanacho</td>\n",
       "      <td>0.480000</td>\n",
       "      <td>12</td>\n",
       "      <td>25</td>\n",
       "    </tr>\n",
       "    <tr>\n",
       "      <th>92</th>\n",
       "      <td>Diogo Jota</td>\n",
       "      <td>0.473684</td>\n",
       "      <td>9</td>\n",
       "      <td>19</td>\n",
       "    </tr>\n",
       "  </tbody>\n",
       "</table>\n",
       "</div>"
      ],
      "text/plain": [
       "                      Name  GoalsPerMatch  Goals  Matches\n",
       "162             Harry Kane       0.657143     23       35\n",
       "81           Mohamed Salah       0.594595     22       37\n",
       "307            Joe Willock       0.571429      8       14\n",
       "145          Jesse Lingard       0.562500      9       16\n",
       "175            Gareth Bale       0.550000     11       20\n",
       "74          Anthony Elanga       0.500000      1        2\n",
       "51         Bruno Fernandes       0.486486     18       37\n",
       "237  Dominic Calvert-Lewin       0.484848     16       33\n",
       "120      Kelechi Iheanacho       0.480000     12       25\n",
       "92              Diogo Jota       0.473684      9       19"
      ]
     },
     "execution_count": 84,
     "metadata": {},
     "output_type": "execute_result"
    }
   ],
   "source": [
    "# Top 10 Goles por partido\n",
    "top_10_Goals_per_matches = epl[['Name','GoalsPerMatch','Goals','Matches']].nlargest(n = 10, columns ='GoalsPerMatch')\n",
    "\n",
    "top_10_Goals_per_matches\n",
    "\n",
    "\n"
   ]
  },
  {
   "cell_type": "code",
   "execution_count": 85,
   "metadata": {
    "tags": []
   },
   "outputs": [
    {
     "data": {
      "image/png": "[encoded data removed]",
      "text/plain": [
       "<Figure size 1008x504 with 1 Axes>"
      ]
     },
     "metadata": {},
     "output_type": "display_data"
    }
   ],
   "source": [
    "# Grafica Pi Chart - Goles con asistencia y Goles sin asistencia\n",
    "plt.figure(figsize=(14,7))\n",
    "assists = epl['Assists'].sum()\n",
    "\n",
    "data = [Total_Goals - assists, assists]\n",
    "nom = ['Goles sin Asistencia', 'Goles con Asistencia']\n",
    "colors = sns.color_palette('Set1')\n",
    "plt.pie(data, labels = nom , colors = colors, autopct = '%.0f%%')\n",
    "plt.show()\n",
    "\n"
   ]
  },
  {
   "cell_type": "code",
   "execution_count": 86,
   "metadata": {
    "tags": []
   },
   "outputs": [
    {
     "data": {
      "image/png": "[encoded data removed]",
      "text/plain": [
       "<Figure size 1440x432 with 1 Axes>"
      ]
     },
     "metadata": {},
     "output_type": "display_data"
    }
   ],
   "source": [
    "#Top 10 jugadores con mas tarjetas amarillas\n",
    "\n",
    "epl_yellow = epl.sort_values(by = 'Yellow_Cards', ascending = False)[:10]\n",
    "plt.figure(figsize = (20,6))\n",
    "plt.title('Top 10 Jugadores con más Tarjetas Amarillas', fontsize = 20)\n",
    "c = sns.barplot(x = epl_yellow['Name'], y = epl_yellow['Yellow_Cards'],\n",
    "               label = 'Players', color = 'yellow')\n",
    "plt.ylabel('Número de tarjetas Amarillas')\n",
    "c.set_xticklabels(c.get_xticklabels(),rotation = 45)\n",
    "c\n",
    "plt.show()\n",
    "      "
   ]
  },
  {
   "cell_type": "markdown",
   "metadata": {},
   "source": [
    "![linea 2](https://user-images.githubusercontent.com/19308295/115926262-2fb62980-a448-11eb-8189-c2f10e499944.png)"
   ]
  },
  {
   "cell_type": "markdown",
   "metadata": {},
   "source": [
    "## <font color=#33A5FF>****BIBLIOGRAFÍA****<tfont>"
   ]
  },
  {
   "cell_type": "markdown",
   "metadata": {},
   "source": [
    "[1] Guía de pandas oficial https://pandas.pydata.org/docs/user_guide/index.html\n",
    "\n",
    "[2] Python Pandas Tutorial: A Complete Introduction for Beginners https://bit.ly/2AQMQld\n",
    "\n",
    "[3] Guía para pandas https://pybonacci.org/2014/05/30/pandas-i/\n",
    "\n",
    "[4] Dataset variados https://www.kaggle.com/datasets\n",
    "\n",
    "[5] SimpliLearn https://www.youtube.com/c/SimplilearnOfficial"
   ]
  },
  {
   "cell_type": "markdown",
   "metadata": {},
   "source": [
    "![linea 1](https://user-images.githubusercontent.com/19308295/115926252-2b8a0c00-a448-11eb-9d9c-b43beaf0ff68.png)"
   ]
  }
 ],
 "metadata": {
  "kernelspec": {
   "display_name": "Python 3 (ipykernel)",
   "language": "python",
   "name": "python3"
  },
  "language_info": {
   "codemirror_mode": {
    "name": "ipython",
    "version": 3
   },
   "file_extension": ".py",
   "mimetype": "text/x-python",
   "name": "python",
   "nbconvert_exporter": "python",
   "pygments_lexer": "ipython3",
   "version": "3.9.12"
  }
 },
 "nbformat": 4,
 "nbformat_minor": 4
}
